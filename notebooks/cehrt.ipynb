{
 "cells": [
  {
   "cell_type": "code",
   "execution_count": 7,
   "id": "6ec9f3ce",
   "metadata": {},
   "outputs": [],
   "source": [
    "import pandas as pd \n",
    "import numpy as np"
   ]
  },
  {
   "cell_type": "markdown",
   "id": "7bef0e69",
   "metadata": {},
   "source": [
    "#### Loading the dataset\n",
    "---"
   ]
  },
  {
   "cell_type": "code",
   "execution_count": 8,
   "id": "f1d92352",
   "metadata": {},
   "outputs": [
    {
     "name": "stderr",
     "output_type": "stream",
     "text": [
      "C:\\Windows\\Temp\\ipykernel_11888\\1921479471.py:2: DtypeWarning: Columns (8,11,12,14,15) have mixed types. Specify dtype option on import or set low_memory=False.\n",
      "  df = pd.read_csv(csv_path)\n"
     ]
    }
   ],
   "source": [
    "csv_path = '../data/cehrt.csv'\n",
    "df = pd.read_csv(csv_path)"
   ]
  },
  {
   "cell_type": "markdown",
   "id": "a5ff62c5",
   "metadata": {},
   "source": [
    "#### Initial Exploratory Data Analysis (EDA)\n",
    "---"
   ]
  },
  {
   "cell_type": "code",
   "execution_count": 9,
   "id": "0d32a306",
   "metadata": {},
   "outputs": [
    {
     "name": "stdout",
     "output_type": "stream",
     "text": [
      "Shape: (33008, 16)\n",
      "Columns: ['Facility.ID', 'Facility.Name', 'Address', 'City.Town', 'State', 'ZIP.Code', 'County.Parish', 'Telephone.Number', 'Meets.criteria.for.promoting.interoperability.of.EHRs', 'Start.Date', 'End.Date', 'CEHRT.ID', 'chpl_id', 'product_database_id', 'developer_name', 'product_name']\n",
      "Data types:\n",
      " Facility.ID                                                int64\n",
      "Facility.Name                                             object\n",
      "Address                                                   object\n",
      "City.Town                                                 object\n",
      "State                                                     object\n",
      "ZIP.Code                                                   int64\n",
      "County.Parish                                             object\n",
      "Telephone.Number                                          object\n",
      "Meets.criteria.for.promoting.interoperability.of.EHRs     object\n",
      "Start.Date                                                object\n",
      "End.Date                                                  object\n",
      "CEHRT.ID                                                  object\n",
      "chpl_id                                                   object\n",
      "product_database_id                                      float64\n",
      "developer_name                                            object\n",
      "product_name                                              object\n",
      "dtype: object\n",
      "Missing values:\n",
      " Facility.ID                                                 0\n",
      "Facility.Name                                               0\n",
      "Address                                                     0\n",
      "City.Town                                                   0\n",
      "State                                                       0\n",
      "ZIP.Code                                                    0\n",
      "County.Parish                                               0\n",
      "Telephone.Number                                            0\n",
      "Meets.criteria.for.promoting.interoperability.of.EHRs    1599\n",
      "Start.Date                                                  0\n",
      "End.Date                                                    0\n",
      "CEHRT.ID                                                  547\n",
      "chpl_id                                                   547\n",
      "product_database_id                                       547\n",
      "developer_name                                            547\n",
      "product_name                                              547\n",
      "dtype: int64\n",
      "First 5 rows:\n",
      "    Facility.ID                          Facility.Name                 Address  \\\n",
      "0       260095             CENTERPOINT MEDICAL CENTER  19600 EAST 39TH STREET   \n",
      "1       440150          TRISTAR SUMMIT MEDICAL CENTER         5655 FRIST BLVD   \n",
      "2       140155             PRESENCE ST MARYS HOSPITAL          500 W COURT ST   \n",
      "3       130018  EASTERN IDAHO REGIONAL MEDICAL CENTER       3100 CHANNING WAY   \n",
      "4       330096                JONES MEMORIAL HOSPITAL   191 NORTH MAIN STREET   \n",
      "\n",
      "      City.Town State  ZIP.Code County.Parish Telephone.Number  \\\n",
      "0  INDEPENDENCE    MO     64057       JACKSON   (816) 698-7000   \n",
      "1     HERMITAGE    TN     37076      DAVIDSON   (615) 316-3000   \n",
      "2      KANKAKEE    IL     60901      KANKAKEE   (815) 937-2490   \n",
      "3   IDAHO FALLS    ID     83404    BONNEVILLE   (208) 529-6111   \n",
      "4    WELLSVILLE    NY     14895      ALLEGANY   (585) 593-1100   \n",
      "\n",
      "  Meets.criteria.for.promoting.interoperability.of.EHRs Start.Date  \\\n",
      "0                                                  Y      1/1/2023   \n",
      "1                                                  Y      1/1/2023   \n",
      "2                                                  Y      1/1/2023   \n",
      "3                                                  Y      1/1/2023   \n",
      "4                                                  Y      1/1/2023   \n",
      "\n",
      "     End.Date         CEHRT.ID                            chpl_id  \\\n",
      "0  12/31/2023  0015C622YQ4JDC3  15.02.04.2391.Sure.02.01.1.211209   \n",
      "1  12/31/2023  0015C622YQ4JDC3  15.02.04.2391.Sure.02.01.1.211209   \n",
      "2  12/31/2023  0015C9AJN70CCV5  15.02.04.2391.Sure.02.01.1.211209   \n",
      "3  12/31/2023  0015C622YQ4JDC3  15.02.04.2391.Sure.02.01.1.211209   \n",
      "4  12/31/2023  0015CTC3XKY26KQ  15.02.04.2391.Sure.02.01.1.211209   \n",
      "\n",
      "   product_database_id    developer_name  \\\n",
      "0              10747.0  Surescripts, LLC   \n",
      "1              10747.0  Surescripts, LLC   \n",
      "2              10747.0  Surescripts, LLC   \n",
      "3              10747.0  Surescripts, LLC   \n",
      "4              10747.0  Surescripts, LLC   \n",
      "\n",
      "                            product_name  \n",
      "0  Surescripts Clinical Direct Messaging  \n",
      "1  Surescripts Clinical Direct Messaging  \n",
      "2  Surescripts Clinical Direct Messaging  \n",
      "3  Surescripts Clinical Direct Messaging  \n",
      "4  Surescripts Clinical Direct Messaging  \n"
     ]
    }
   ],
   "source": [
    "print(\"Shape:\", df.shape)\n",
    "print(\"Columns:\", df.columns.tolist())\n",
    "print(\"Data types:\\n\", df.dtypes)\n",
    "print(\"Missing values:\\n\", df.isnull().sum())\n",
    "print(\"First 5 rows:\\n\", df.head())"
   ]
  },
  {
   "cell_type": "markdown",
   "id": "b34d7e37",
   "metadata": {},
   "source": [
    "#### Cleaning the data\n",
    "---"
   ]
  },
  {
   "cell_type": "code",
   "execution_count": 10,
   "id": "dd5c5136",
   "metadata": {},
   "outputs": [
    {
     "name": "stdout",
     "output_type": "stream",
     "text": [
      "Standardized column names: ['facility_id', 'facility_name', 'address', 'city_town', 'state', 'zip_code', 'county_parish', 'telephone_number', 'meets_criteria_for_promoting_interoperability_of_ehrs', 'start_date', 'end_date', 'cehrt_id', 'chpl_id', 'product_database_id', 'developer_name', 'product_name']\n"
     ]
    }
   ],
   "source": [
    "#standardize the column names to lower case and replace spaces, dashes, slashes, and dots with underscores to avoid issues in merging and analysis\n",
    "df.columns = df.columns.str.lower().str.replace(' ', '_').str.replace('-', '_')\n",
    "df.columns = df.columns.str.replace('/', '_')\n",
    "df.columns = df.columns.str.replace('.', '_')\n",
    "print(\"Standardized column names:\", df.columns.tolist())"
   ]
  },
  {
   "cell_type": "code",
   "execution_count": 11,
   "id": "1e022d80",
   "metadata": {},
   "outputs": [
    {
     "name": "stdout",
     "output_type": "stream",
     "text": [
      "Remaining columns after dropping: ['facility_id', 'cehrt_id', 'developer_name']\n"
     ]
    }
   ],
   "source": [
    "# drop columns that are not needed\n",
    "columns_to_drop = ['facility_name', 'address', 'city_town', 'state', 'zip_code', 'county_parish', 'telephone_number', 'meets_criteria_for_promoting_interoperability_of_ehrs', 'start_date', 'end_date', 'chpl_id', 'product_name', 'product_database_id']\n",
    "df.drop(columns=columns_to_drop, inplace=True, errors='ignore')\n",
    "print(\"Remaining columns after dropping:\", df.columns.tolist())"
   ]
  },
  {
   "cell_type": "code",
   "execution_count": 12,
   "id": "66083f99",
   "metadata": {},
   "outputs": [
    {
     "name": "stdout",
     "output_type": "stream",
     "text": [
      "Missing values in 'facility_id': 0\n",
      "Unique values in 'facility_id': 4593\n",
      "Missing values in 'cehrt_id': 0\n",
      "Unique values in 'cehrt_id': 876\n",
      "Missing values in 'developer_name': 0\n",
      "Unique values in 'developer_name': 90\n"
     ]
    }
   ],
   "source": [
    "#convert 'facility_id', 'cehrt_id', 'developer_name' to string to ensure consistency\n",
    "df['facility_id'] = df['facility_id'].astype(str)\n",
    "df['cehrt_id'] = df['cehrt_id'].astype(str)\n",
    "df['developer_name'] = df['developer_name'].astype(str)\n",
    "# verify conversion by checking for missing and unique values in each column\n",
    "print(\"Missing values in 'facility_id':\", df['facility_id'].isnull().sum())\n",
    "print(\"Unique values in 'facility_id':\", df['facility_id'].nunique())\n",
    "print(\"Missing values in 'cehrt_id':\", df['cehrt_id'].isnull().sum())\n",
    "print(\"Unique values in 'cehrt_id':\", df['cehrt_id'].nunique())\n",
    "print(\"Missing values in 'developer_name':\", df['developer_name'].isnull().sum())\n",
    "print(\"Unique values in 'developer_name':\", df['developer_name'].nunique())"
   ]
  },
  {
   "cell_type": "markdown",
   "id": "b264278d",
   "metadata": {},
   "source": [
    "#### Checking for duplicates\n",
    "---"
   ]
  },
  {
   "cell_type": "code",
   "execution_count": 13,
   "id": "60ccb7d1",
   "metadata": {},
   "outputs": [
    {
     "name": "stdout",
     "output_type": "stream",
     "text": [
      "Total duplicate facility_id: 28415\n",
      "Merged duplicate facility_id rows. New shape: (4593, 3)\n",
      "Duplicates in 'facility_id': 0\n"
     ]
    }
   ],
   "source": [
    "facility_duplicates = df['facility_id'].duplicated().sum()\n",
    "print(f\"Total duplicate facility_id: {facility_duplicates}\")\n",
    "\n",
    "if facility_duplicates > 0:\n",
    "    df = df.groupby('facility_id').first().reset_index()\n",
    "    print(\"Merged duplicate facility_id rows. New shape:\", df.shape)\n",
    "    \n",
    "# verifying merged duplicates\n",
    "print(\"Duplicates in 'facility_id':\", df['facility_id'].duplicated().sum())"
   ]
  },
  {
   "cell_type": "code",
   "execution_count": 14,
   "id": "df2b6bc5",
   "metadata": {},
   "outputs": [],
   "source": [
    "import os\n",
    "\n",
    "# Create clean_data directory if it doesn't exist\n",
    "clean_data_dir = '../data/clean_data'\n",
    "os.makedirs(clean_data_dir, exist_ok=True)\n",
    "\n",
    "# Save the cleaned DataFrame to a new CSV file\n",
    "clean_csv_path = os.path.join(clean_data_dir, 'cleaned_cehrt.csv')\n",
    "df.to_csv(clean_csv_path, index=False)"
   ]
  }
 ],
 "metadata": {
  "kernelspec": {
   "display_name": ".venv",
   "language": "python",
   "name": "python3"
  },
  "language_info": {
   "codemirror_mode": {
    "name": "ipython",
    "version": 3
   },
   "file_extension": ".py",
   "mimetype": "text/x-python",
   "name": "python",
   "nbconvert_exporter": "python",
   "pygments_lexer": "ipython3",
   "version": "3.13.2"
  }
 },
 "nbformat": 4,
 "nbformat_minor": 5
}
