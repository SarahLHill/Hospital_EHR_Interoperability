{
 "cells": [
  {
   "cell_type": "code",
   "execution_count": 8,
   "id": "a3972555",
   "metadata": {},
   "outputs": [],
   "source": [
    "import pandas as pd\n",
    "import numpy as np\n",
    "import sys\n",
    "\n",
    "# retrieving utils from parent directory\n",
    "sys.path.append('..')\n",
    "from utils.utils import *  # Import all functions from utils.utils"
   ]
  },
  {
   "cell_type": "markdown",
   "id": "43e2e918",
   "metadata": {},
   "source": [
    "#### Loading the dataset\n",
    "---"
   ]
  },
  {
   "cell_type": "code",
   "execution_count": 9,
   "id": "46156913",
   "metadata": {},
   "outputs": [],
   "source": [
    "csv_path = '../data/hospital_interoperability_data.csv'\n",
    "\n",
    "df = pd.read_csv(csv_path)\n"
   ]
  },
  {
   "cell_type": "markdown",
   "id": "1b2d2054",
   "metadata": {},
   "source": [
    "#### Initial Exploratory Data Analysis (EDA)\n",
    "---"
   ]
  },
  {
   "cell_type": "code",
   "execution_count": 10,
   "id": "7c65f10b",
   "metadata": {},
   "outputs": [
    {
     "name": "stdout",
     "output_type": "stream",
     "text": [
      "First 5 rows:\n",
      "   Facility ID                    Facility Name                     Address  \\\n",
      "0        10001  SOUTHEAST HEALTH MEDICAL CENTER      1108 ROSS CLARK CIRCLE   \n",
      "1        10005         MARSHALL MEDICAL CENTERS  2505 U S HIGHWAY 431 NORTH   \n",
      "2        10006     NORTH ALABAMA MEDICAL CENTER         1701 VETERANS DRIVE   \n",
      "3        10007         MIZELL MEMORIAL HOSPITAL               702 N MAIN ST   \n",
      "4        10008      CRENSHAW COMMUNITY HOSPITAL         101 HOSPITAL CIRCLE   \n",
      "\n",
      "  City/Town State  ZIP Code County/Parish Telephone Number         CEHRT ID  \\\n",
      "0    DOTHAN    AL     36301       HOUSTON   (334) 793-8701  0015CAN28DKT47C   \n",
      "1      BOAZ    AL     35957      MARSHALL   (256) 593-8310  0015C0HAX4ESQ0D   \n",
      "2  FLORENCE    AL     35630    LAUDERDALE   (256) 768-8400  0015CW76TRC3SVN   \n",
      "3       OPP    AL     36467     COVINGTON   (334) 493-3541  0015CFG3Q10HY2V   \n",
      "4   LUVERNE    AL     36049      CRENSHAW   (334) 335-3374  0015CFG3Q10HY2V   \n",
      "\n",
      "  Meets criteria for promoting interoperability of EHRs Start Date    End Date  \n",
      "0                                                  Y      1/1/2023  12/31/2023  \n",
      "1                                                  Y      1/1/2023  12/31/2023  \n",
      "2                                                  Y      1/1/2023  12/31/2023  \n",
      "3                                                  Y      1/1/2023  12/31/2023  \n",
      "4                                                  Y      1/1/2023  12/31/2023  \n",
      "\n",
      "Last 5 rows:\n",
      "      Facility ID                           Facility Name  \\\n",
      "4588       670322          LEGENT SURGICAL HOSPITAL PLANO   \n",
      "4589       670326        BRUSHY CREEK FAMILY HOSPITAL LLC   \n",
      "4590       670327  EXCEPTIONAL COMMUNITY HOSPITAL LUBBOCK   \n",
      "4591       671300          GRAHAM REGIONAL MEDICAL CENTER   \n",
      "4592       671301                HEMPHILL COUNTY HOSPITAL   \n",
      "\n",
      "                   Address   City/Town State  ZIP Code County/Parish  \\\n",
      "4588  4100 MAPLESHADE LANE       PLANO    TX     75075        COLLIN   \n",
      "4589     230 DEER RIDGE DR  ROUND ROCK    TX     78681    WILLIAMSON   \n",
      "4590         6401 SPUR 327     LUBBOCK    TX     79424       LUBBOCK   \n",
      "4591  1301 MONTGOMERY ROAD      GRAHAM    TX     76450         YOUNG   \n",
      "4592         1020 S 4TH ST    CANADIAN    TX     79014      HEMPHILL   \n",
      "\n",
      "     Telephone Number         CEHRT ID  \\\n",
      "4588   (972) 265-1050              NaN   \n",
      "4589   (512) 766-1400              NaN   \n",
      "4590   (469) 341-7800              NaN   \n",
      "4591   (940) 549-3400  0015C2XBM59VCV5   \n",
      "4592   (806) 323-6622  0015CTY5P3PK4EQ   \n",
      "\n",
      "     Meets criteria for promoting interoperability of EHRs Start Date  \\\n",
      "4588                                                NaN      1/1/2023   \n",
      "4589                                                NaN      1/1/2023   \n",
      "4590                                                NaN      1/1/2023   \n",
      "4591                                                NaN      1/1/2023   \n",
      "4592                                                NaN      1/1/2023   \n",
      "\n",
      "        End Date  \n",
      "4588  12/31/2023  \n",
      "4589  12/31/2023  \n",
      "4590  12/31/2023  \n",
      "4591  12/31/2023  \n",
      "4592  12/31/2023  \n",
      "\n",
      "DataFrame Info:\n",
      "<class 'pandas.core.frame.DataFrame'>\n",
      "RangeIndex: 4593 entries, 0 to 4592\n",
      "Data columns (total 12 columns):\n",
      " #   Column                                                 Non-Null Count  Dtype \n",
      "---  ------                                                 --------------  ----- \n",
      " 0   Facility ID                                            4593 non-null   int64 \n",
      " 1   Facility Name                                          4593 non-null   object\n",
      " 2   Address                                                4593 non-null   object\n",
      " 3   City/Town                                              4593 non-null   object\n",
      " 4   State                                                  4593 non-null   object\n",
      " 5   ZIP Code                                               4593 non-null   int64 \n",
      " 6   County/Parish                                          4593 non-null   object\n",
      " 7   Telephone Number                                       4593 non-null   object\n",
      " 8   CEHRT ID                                               4046 non-null   object\n",
      " 9   Meets criteria for promoting interoperability of EHRs  3866 non-null   object\n",
      " 10  Start Date                                             4593 non-null   object\n",
      " 11  End Date                                               4593 non-null   object\n",
      "dtypes: int64(2), object(10)\n",
      "memory usage: 430.7+ KB\n",
      "\n",
      "Descriptive Statistics:\n",
      "         Facility ID      ZIP Code\n",
      "count    4593.000000   4593.000000\n",
      "mean   267573.402351  54239.873939\n",
      "std    158634.709389  26924.420946\n",
      "min     10001.000000    603.000000\n",
      "25%    140145.000000  33143.000000\n",
      "50%    260005.000000  55805.000000\n",
      "75%    390258.000000  76208.000000\n",
      "max    671301.000000  99929.000000\n"
     ]
    }
   ],
   "source": [
    "from utils.utils import basic_eda\n",
    "# Perform basic EDA\n",
    "basic_eda(df)"
   ]
  },
  {
   "cell_type": "markdown",
   "id": "e43eb2d3",
   "metadata": {},
   "source": [
    "#### Cleaning the data\n",
    "---"
   ]
  },
  {
   "cell_type": "code",
   "execution_count": 11,
   "id": "2cc1ee94",
   "metadata": {},
   "outputs": [
    {
     "name": "stdout",
     "output_type": "stream",
     "text": [
      "Standardized column names: ['facility_id', 'facility_name', 'address', 'city_town', 'state', 'zip_code', 'county_parish', 'telephone_number', 'cehrt_id', 'meets_criteria_for_promoting_interoperability_of_ehrs', 'start_date', 'end_date']\n"
     ]
    }
   ],
   "source": [
    "#standardize the column names\n",
    "df.columns = df.columns.str.lower().str.replace(' ', '_').str.replace('-', '_')\n",
    "df.columns = df.columns.str.replace('/', '_')\n",
    "print(\"Standardized column names:\", df.columns.tolist())"
   ]
  },
  {
   "cell_type": "code",
   "execution_count": 12,
   "id": "8236e447",
   "metadata": {},
   "outputs": [
    {
     "name": "stdout",
     "output_type": "stream",
     "text": [
      "Remaining columns after dropping: ['facility_id', 'cehrt_id', 'meets_criteria_for_promoting_interoperability_of_ehrs', 'start_date', 'end_date']\n"
     ]
    }
   ],
   "source": [
    "# drop columns that are not needed\n",
    "columns_to_drop = ['facility_name','telephone_number', 'county_parish', 'address', 'city_town', 'state', 'zip_code',]\n",
    "df.drop(columns=columns_to_drop, inplace=True, errors='ignore')\n",
    "print(\"Remaining columns after dropping:\", df.columns.tolist())"
   ]
  },
  {
   "cell_type": "code",
   "execution_count": 13,
   "id": "eefec6c9",
   "metadata": {},
   "outputs": [
    {
     "name": "stdout",
     "output_type": "stream",
     "text": [
      "   facility_id         cehrt_id  \\\n",
      "0        10001  0015CAN28DKT47C   \n",
      "1        10005  0015C0HAX4ESQ0D   \n",
      "2        10006  0015CW76TRC3SVN   \n",
      "3        10007  0015CFG3Q10HY2V   \n",
      "4        10008  0015CFG3Q10HY2V   \n",
      "5        10011  0015C5LFV335W0K   \n",
      "6        10012  0015C8CHE73ABS5   \n",
      "7        10016  0015CEN2HB2EXA1   \n",
      "8        10018  0015CN0ZLY04L17   \n",
      "9        10019              NaN   \n",
      "10       10021  0015CFG3Q10HY2V   \n",
      "11       10022  0015CJ4T57TWR1R   \n",
      "12       10023  0015CEZ6FY4WR6V   \n",
      "13       10024  0015CG91R3XQ5T3   \n",
      "14       10029  0015C1HRS47CWV4   \n",
      "15       10033  0015CA3TZV3LRM4   \n",
      "16       10034  0015CFG3Q10HY2V   \n",
      "17       10035  0015CFG3Q10HY2V   \n",
      "18       10036  0015CC4NC7PMU4W   \n",
      "19       10039  0015CV1DWP8EW15   \n",
      "\n",
      "   meets_criteria_for_promoting_interoperability_of_ehrs start_date  \\\n",
      "0                                                   Y      1/1/2023   \n",
      "1                                                   Y      1/1/2023   \n",
      "2                                                   Y      1/1/2023   \n",
      "3                                                   Y      1/1/2023   \n",
      "4                                                   Y      1/1/2023   \n",
      "5                                                   Y      1/1/2023   \n",
      "6                                                   Y      1/1/2023   \n",
      "7                                                   Y      1/1/2023   \n",
      "8                                                   Y      1/1/2023   \n",
      "9                                                 NaN      1/1/2023   \n",
      "10                                                  Y      1/1/2023   \n",
      "11                                                  Y      1/1/2023   \n",
      "12                                                  Y      1/1/2023   \n",
      "13                                                  Y      1/1/2023   \n",
      "14                                                  Y      1/1/2023   \n",
      "15                                                  Y      1/1/2023   \n",
      "16                                                NaN      1/1/2023   \n",
      "17                                                  Y      1/1/2023   \n",
      "18                                                  Y      1/1/2023   \n",
      "19                                                  Y      1/1/2023   \n",
      "\n",
      "      end_date  \n",
      "0   12/31/2023  \n",
      "1   12/31/2023  \n",
      "2   12/31/2023  \n",
      "3   12/31/2023  \n",
      "4   12/31/2023  \n",
      "5   12/31/2023  \n",
      "6   12/31/2023  \n",
      "7   12/31/2023  \n",
      "8   12/31/2023  \n",
      "9   12/31/2023  \n",
      "10  12/31/2023  \n",
      "11  12/31/2023  \n",
      "12  12/31/2023  \n",
      "13  12/31/2023  \n",
      "14  12/31/2023  \n",
      "15  12/31/2023  \n",
      "16  12/31/2023  \n",
      "17  12/31/2023  \n",
      "18  12/31/2023  \n",
      "19  12/31/2023  \n",
      "NaN values in each column:\n",
      "facility_id                                                0\n",
      "cehrt_id                                                 547\n",
      "meets_criteria_for_promoting_interoperability_of_ehrs    727\n",
      "start_date                                                 0\n",
      "end_date                                                   0\n",
      "dtype: int64\n"
     ]
    }
   ],
   "source": [
    "#convert dtype for 'facility_id' to string\n",
    "# This is necessary to ensure that the merge with hospital_general_info works correctly\n",
    "df['facility_id'] = df['facility_id'].astype(str)\n",
    "\n",
    "#convert dtype for 'meets_criteria_for_promoting_interoperability_of_ehrs' string forcing blank values to NaN\n",
    "df['meets_criteria_for_promoting_interoperability_of_ehrs'] = df['meets_criteria_for_promoting_interoperability_of_ehrs'].replace('', np.nan)\n",
    "\n",
    "print(df.head(20))\n",
    "print(\"NaN values in each column:\")\n",
    "print(df.isnull().sum())"
   ]
  },
  {
   "cell_type": "markdown",
   "id": "c8b14ebe",
   "metadata": {},
   "source": [
    "### Handling Missing Values\n",
    "---\n",
    "##### There are many blank values in the 'cehrt_id' and 'meets_interoperability_criteria' columns. The hospital general Information dataset indicated that several hospitals do not participate in the EHR Incentive Program. Since I am merging on Hospital General Information facility_id column, I will address these blank values after merging as it is likely that many were already removed."
   ]
  },
  {
   "cell_type": "markdown",
   "id": "bf18f954",
   "metadata": {},
   "source": [
    "#### Checking for Duplicates\n",
    "---"
   ]
  },
  {
   "cell_type": "code",
   "execution_count": 14,
   "id": "7a883845",
   "metadata": {},
   "outputs": [
    {
     "name": "stdout",
     "output_type": "stream",
     "text": [
      "Shape of the dataset: (4593, 5)\n",
      "Total duplicate facility_id: 0\n"
     ]
    }
   ],
   "source": [
    "# print dataset for duplicate\n",
    "print(\"Shape of the dataset:\", df.shape)\n",
    "# Check for duplicates in 'facility_id'\n",
    "facility_duplicates = df['facility_id'].duplicated().sum()\n",
    "print(f\"Total duplicate facility_id: {facility_duplicates}\")"
   ]
  },
  {
   "cell_type": "markdown",
   "id": "43d8a294",
   "metadata": {},
   "source": [
    "#### Saving the cleaned dataset to CSV\n",
    "---"
   ]
  },
  {
   "cell_type": "code",
   "execution_count": 15,
   "id": "cf48c39a",
   "metadata": {},
   "outputs": [],
   "source": [
    "import os\n",
    "\n",
    "# Create clean_data directory if it doesn't exist\n",
    "clean_data_dir = '../data/clean_data'\n",
    "os.makedirs(clean_data_dir, exist_ok=True)\n",
    "\n",
    "# Save the cleaned DataFrame to a new CSV file\n",
    "clean_csv_path = os.path.join(clean_data_dir, 'cleaned_hospital_interoperability.csv')\n",
    "df.to_csv(clean_csv_path, index=False)"
   ]
  },
  {
   "cell_type": "markdown",
   "id": "1d072558",
   "metadata": {},
   "source": [
    "#"
   ]
  }
 ],
 "metadata": {
  "kernelspec": {
   "display_name": ".venv_cap (3.13.2)",
   "language": "python",
   "name": "python3"
  },
  "language_info": {
   "codemirror_mode": {
    "name": "ipython",
    "version": 3
   },
   "file_extension": ".py",
   "mimetype": "text/x-python",
   "name": "python",
   "nbconvert_exporter": "python",
   "pygments_lexer": "ipython3",
   "version": "3.13.2"
  }
 },
 "nbformat": 4,
 "nbformat_minor": 5
}
