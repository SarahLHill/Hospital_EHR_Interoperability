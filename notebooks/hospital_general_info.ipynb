{
 "cells": [
  {
   "cell_type": "code",
   "execution_count": 1,
   "id": "8ca7d2a9",
   "metadata": {},
   "outputs": [
    {
     "name": "stdout",
     "output_type": "stream",
     "text": [
      "utils module initialized\n"
     ]
    }
   ],
   "source": [
    "import pandas as pd\n",
    "import numpy as np\n",
    "import sys\n",
    "\n",
    "# retrieving utils from parent directory\n",
    "sys.path.append('..')\n",
    "from utils.utils import *  # Import all functions from utils.utils"
   ]
  },
  {
   "cell_type": "markdown",
   "id": "3e24be4a",
   "metadata": {},
   "source": [
    "#### Loading the dataset\n",
    "---"
   ]
  },
  {
   "cell_type": "code",
   "execution_count": 2,
   "id": "eae77993",
   "metadata": {},
   "outputs": [],
   "source": [
    "csv_path = '../data/hospital_general_info.csv'\n",
    "\n",
    "df = pd.read_csv(csv_path)"
   ]
  },
  {
   "cell_type": "markdown",
   "id": "76416181",
   "metadata": {},
   "source": [
    "#### Initial Exploratory Data Analysis (EDA)\n",
    "---"
   ]
  },
  {
   "cell_type": "code",
   "execution_count": 3,
   "id": "622fb857",
   "metadata": {},
   "outputs": [
    {
     "name": "stdout",
     "output_type": "stream",
     "text": [
      "First 5 rows:\n",
      "  Facility ID                    Facility Name                     Address  \\\n",
      "0       10001  SOUTHEAST HEALTH MEDICAL CENTER      1108 ROSS CLARK CIRCLE   \n",
      "1       10005         MARSHALL MEDICAL CENTERS  2505 U S HIGHWAY 431 NORTH   \n",
      "2       10006     NORTH ALABAMA MEDICAL CENTER         1701 VETERANS DRIVE   \n",
      "3       10007         MIZELL MEMORIAL HOSPITAL               702 N MAIN ST   \n",
      "4       10008      CRENSHAW COMMUNITY HOSPITAL         101 HOSPITAL CIRCLE   \n",
      "\n",
      "  City/Town State  ZIP Code County/Parish Telephone Number  \\\n",
      "0    DOTHAN    AL     36301       HOUSTON   (334) 793-8701   \n",
      "1      BOAZ    AL     35957      MARSHALL   (256) 593-8310   \n",
      "2  FLORENCE    AL     35630    LAUDERDALE   (256) 768-8400   \n",
      "3       OPP    AL     36467     COVINGTON   (334) 493-3541   \n",
      "4   LUVERNE    AL     36049      CRENSHAW   (334) 335-3374   \n",
      "\n",
      "          Hospital Type                           Hospital Ownership  ...  \\\n",
      "0  Acute Care Hospitals  Government - Hospital District or Authority  ...   \n",
      "1  Acute Care Hospitals  Government - Hospital District or Authority  ...   \n",
      "2  Acute Care Hospitals                                  Proprietary  ...   \n",
      "3  Acute Care Hospitals               Voluntary non-profit - Private  ...   \n",
      "4  Acute Care Hospitals                                  Proprietary  ...   \n",
      "\n",
      "  Count of READM Measures Better Count of READM Measures No Different  \\\n",
      "0                              1                                    8   \n",
      "1                              0                                    8   \n",
      "2                              0                                    7   \n",
      "3                              0                                    7   \n",
      "4                              0                                    2   \n",
      "\n",
      "  Count of READM Measures Worse READM Group Footnote  \\\n",
      "0                             2                  NaN   \n",
      "1                             1                  NaN   \n",
      "2                             2                  NaN   \n",
      "3                             0                  NaN   \n",
      "4                             0                  NaN   \n",
      "\n",
      "  Pt Exp Group Measure Count Count of Facility Pt Exp Measures  \\\n",
      "0                          8                                 8   \n",
      "1                          8                                 8   \n",
      "2                          8                                 8   \n",
      "3                          8                                 8   \n",
      "4                          8                     Not Available   \n",
      "\n",
      "  Pt Exp Group Footnote TE Group Measure Count Count of Facility TE Measures  \\\n",
      "0                   NaN                     12                            10   \n",
      "1                   NaN                     12                            12   \n",
      "2                   NaN                     12                            11   \n",
      "3                   NaN                     12                             7   \n",
      "4                   5.0                     12                             6   \n",
      "\n",
      "   TE Group Footnote  \n",
      "0                NaN  \n",
      "1                NaN  \n",
      "2                NaN  \n",
      "3                NaN  \n",
      "4                NaN  \n",
      "\n",
      "[5 rows x 38 columns]\n",
      "\n",
      "Last 5 rows:\n",
      "     Facility ID                           Facility Name  \\\n",
      "5379      670322          LEGENT SURGICAL HOSPITAL PLANO   \n",
      "5380      670326        BRUSHY CREEK FAMILY HOSPITAL LLC   \n",
      "5381      670327  EXCEPTIONAL COMMUNITY HOSPITAL LUBBOCK   \n",
      "5382      671300          GRAHAM REGIONAL MEDICAL CENTER   \n",
      "5383      671301                HEMPHILL COUNTY HOSPITAL   \n",
      "\n",
      "                   Address   City/Town State  ZIP Code County/Parish  \\\n",
      "5379  4100 MAPLESHADE LANE       PLANO    TX     75075        COLLIN   \n",
      "5380     230 DEER RIDGE DR  ROUND ROCK    TX     78681    WILLIAMSON   \n",
      "5381         6401 SPUR 327     LUBBOCK    TX     79424       LUBBOCK   \n",
      "5382  1301 MONTGOMERY ROAD      GRAHAM    TX     76450         YOUNG   \n",
      "5383         1020 S 4TH ST    CANADIAN    TX     79014      HEMPHILL   \n",
      "\n",
      "     Telephone Number              Hospital Type  \\\n",
      "5379   (972) 265-1050       Acute Care Hospitals   \n",
      "5380   (512) 766-1400       Acute Care Hospitals   \n",
      "5381   (469) 341-7800       Acute Care Hospitals   \n",
      "5382   (940) 549-3400  Critical Access Hospitals   \n",
      "5383   (806) 323-6622  Critical Access Hospitals   \n",
      "\n",
      "                               Hospital Ownership  ...  \\\n",
      "5379                                  Proprietary  ...   \n",
      "5380                                  Proprietary  ...   \n",
      "5381                                  Proprietary  ...   \n",
      "5382  Government - Hospital District or Authority  ...   \n",
      "5383  Government - Hospital District or Authority  ...   \n",
      "\n",
      "     Count of READM Measures Better Count of READM Measures No Different  \\\n",
      "5379                  Not Available                        Not Available   \n",
      "5380                  Not Available                        Not Available   \n",
      "5381                  Not Available                        Not Available   \n",
      "5382                  Not Available                        Not Available   \n",
      "5383                  Not Available                        Not Available   \n",
      "\n",
      "     Count of READM Measures Worse READM Group Footnote  \\\n",
      "5379                 Not Available                  5.0   \n",
      "5380                 Not Available                 19.0   \n",
      "5381                 Not Available                 19.0   \n",
      "5382                 Not Available                  5.0   \n",
      "5383                 Not Available                  5.0   \n",
      "\n",
      "     Pt Exp Group Measure Count Count of Facility Pt Exp Measures  \\\n",
      "5379                          8                     Not Available   \n",
      "5380              Not Available                     Not Available   \n",
      "5381              Not Available                     Not Available   \n",
      "5382              Not Available                     Not Available   \n",
      "5383              Not Available                     Not Available   \n",
      "\n",
      "     Pt Exp Group Footnote TE Group Measure Count  \\\n",
      "5379                   5.0                     12   \n",
      "5380                  19.0          Not Available   \n",
      "5381                  19.0          Not Available   \n",
      "5382                   5.0          Not Available   \n",
      "5383                   5.0          Not Available   \n",
      "\n",
      "     Count of Facility TE Measures  TE Group Footnote  \n",
      "5379                 Not Available                5.0  \n",
      "5380                 Not Available               19.0  \n",
      "5381                 Not Available               19.0  \n",
      "5382                 Not Available                5.0  \n",
      "5383                 Not Available                5.0  \n",
      "\n",
      "[5 rows x 38 columns]\n",
      "\n",
      "DataFrame Info:\n",
      "<class 'pandas.core.frame.DataFrame'>\n",
      "RangeIndex: 5384 entries, 0 to 5383\n",
      "Data columns (total 38 columns):\n",
      " #   Column                                            Non-Null Count  Dtype  \n",
      "---  ------                                            --------------  -----  \n",
      " 0   Facility ID                                       5384 non-null   object \n",
      " 1   Facility Name                                     5384 non-null   object \n",
      " 2   Address                                           5384 non-null   object \n",
      " 3   City/Town                                         5384 non-null   object \n",
      " 4   State                                             5384 non-null   object \n",
      " 5   ZIP Code                                          5384 non-null   int64  \n",
      " 6   County/Parish                                     5384 non-null   object \n",
      " 7   Telephone Number                                  5384 non-null   object \n",
      " 8   Hospital Type                                     5384 non-null   object \n",
      " 9   Hospital Ownership                                5384 non-null   object \n",
      " 10  Emergency Services                                5384 non-null   object \n",
      " 11  Meets criteria for birthing friendly designation  2230 non-null   object \n",
      " 12  Hospital overall rating                           5384 non-null   object \n",
      " 13  Hospital overall rating footnote                  2618 non-null   object \n",
      " 14  MORT Group Measure Count                          5384 non-null   object \n",
      " 15  Count of Facility MORT Measures                   5384 non-null   object \n",
      " 16  Count of MORT Measures Better                     5384 non-null   object \n",
      " 17  Count of MORT Measures No Different               5384 non-null   object \n",
      " 18  Count of MORT Measures Worse                      5384 non-null   object \n",
      " 19  MORT Group Footnote                               1875 non-null   float64\n",
      " 20  Safety Group Measure Count                        5384 non-null   object \n",
      " 21  Count of Facility Safety Measures                 5384 non-null   object \n",
      " 22  Count of Safety Measures Better                   5384 non-null   object \n",
      " 23  Count of Safety Measures No Different             5384 non-null   object \n",
      " 24  Count of Safety Measures Worse                    5384 non-null   object \n",
      " 25  Safety Group Footnote                             1994 non-null   float64\n",
      " 26  READM Group Measure Count                         5384 non-null   object \n",
      " 27  Count of Facility READM Measures                  5384 non-null   object \n",
      " 28  Count of READM Measures Better                    5384 non-null   object \n",
      " 29  Count of READM Measures No Different              5384 non-null   object \n",
      " 30  Count of READM Measures Worse                     5384 non-null   object \n",
      " 31  READM Group Footnote                              1088 non-null   float64\n",
      " 32  Pt Exp Group Measure Count                        5384 non-null   object \n",
      " 33  Count of Facility Pt Exp Measures                 5384 non-null   object \n",
      " 34  Pt Exp Group Footnote                             2190 non-null   float64\n",
      " 35  TE Group Measure Count                            5384 non-null   object \n",
      " 36  Count of Facility TE Measures                     5384 non-null   object \n",
      " 37  TE Group Footnote                                 894 non-null    float64\n",
      "dtypes: float64(5), int64(1), object(32)\n",
      "memory usage: 1.6+ MB\n",
      "\n",
      "Descriptive Statistics:\n",
      "           ZIP Code  MORT Group Footnote  Safety Group Footnote  \\\n",
      "count   5384.000000          1875.000000            1994.000000   \n",
      "mean   53762.267831            11.016000              10.675025   \n",
      "std    27103.733755             7.003106               6.947492   \n",
      "min      603.000000             5.000000               5.000000   \n",
      "25%    32607.250000             5.000000               5.000000   \n",
      "50%    55046.000000             5.000000               5.000000   \n",
      "75%    76125.250000            19.000000              19.000000   \n",
      "max    99929.000000            23.000000              23.000000   \n",
      "\n",
      "       READM Group Footnote  Pt Exp Group Footnote  TE Group Footnote  \n",
      "count           1088.000000            2190.000000         894.000000  \n",
      "mean              15.318015              10.126027          17.557047  \n",
      "std                6.287059               6.801070           4.468452  \n",
      "min                5.000000               5.000000           5.000000  \n",
      "25%                5.000000               5.000000          19.000000  \n",
      "50%               19.000000               5.000000          19.000000  \n",
      "75%               19.000000              19.000000          19.000000  \n",
      "max               22.000000              22.000000          22.000000  \n"
     ]
    }
   ],
   "source": [
    "from utils.utils import basic_eda\n",
    "# Perform basic EDA\n",
    "basic_eda(df)"
   ]
  },
  {
   "cell_type": "markdown",
   "id": "b47b6166",
   "metadata": {},
   "source": [
    "#### Cleaning the data\n",
    "---"
   ]
  },
  {
   "cell_type": "code",
   "execution_count": 4,
   "id": "0ee8cc39",
   "metadata": {},
   "outputs": [
    {
     "name": "stdout",
     "output_type": "stream",
     "text": [
      "Standardized column names: ['facility_id', 'facility_name', 'address', 'city_town', 'state', 'zip_code', 'county_parish', 'telephone_number', 'hospital_type', 'hospital_ownership', 'emergency_services', 'meets_criteria_for_birthing_friendly_designation', 'hospital_overall_rating', 'hospital_overall_rating_footnote', 'mort_group_measure_count', 'count_of_facility_mort_measures', 'count_of_mort_measures_better', 'count_of_mort_measures_no_different', 'count_of_mort_measures_worse', 'mort_group_footnote', 'safety_group_measure_count', 'count_of_facility_safety_measures', 'count_of_safety_measures_better', 'count_of_safety_measures_no_different', 'count_of_safety_measures_worse', 'safety_group_footnote', 'readm_group_measure_count', 'count_of_facility_readm_measures', 'count_of_readm_measures_better', 'count_of_readm_measures_no_different', 'count_of_readm_measures_worse', 'readm_group_footnote', 'pt_exp_group_measure_count', 'count_of_facility_pt_exp_measures', 'pt_exp_group_footnote', 'te_group_measure_count', 'count_of_facility_te_measures', 'te_group_footnote']\n"
     ]
    }
   ],
   "source": [
    "#Standardize the column names for consistency\n",
    "df.columns = df.columns.str.lower().str.replace(' ', '_').str.replace('-', '_')\n",
    "df.columns = df.columns.str.replace('/', '_')\n",
    "\n",
    "print(\"Standardized column names:\", df.columns.tolist())"
   ]
  },
  {
   "cell_type": "code",
   "execution_count": 5,
   "id": "0bfee95c",
   "metadata": {},
   "outputs": [
    {
     "name": "stdout",
     "output_type": "stream",
     "text": [
      "Remaining columns after dropping: ['facility_id', 'facility_name', 'city_town', 'state', 'zip_code', 'hospital_type', 'hospital_ownership', 'hospital_overall_rating', 'hospital_overall_rating_footnote']\n"
     ]
    }
   ],
   "source": [
    "#drop columns that are not needed\n",
    "columns_to_drop = ['telephone_number', 'county_parish', 'address',\n",
    "    'meets_criteria_for_birthing_friendly_designation',\n",
    "    'mort_group_measure_count',\n",
    "    'count_of_facility_mort_measures',\n",
    "    'count_of_mort_measures_no_different',\n",
    "    'count_of_mort_measures_worse',\n",
    "    'mort_group_footnote',\n",
    "    'safety_group_measure_count',\n",
    "    'count_of_facility_safety_measures',\n",
    "    'count_of_safety_measures_no_different',\n",
    "    'count_of_safety_measures_worse',\n",
    "    'safety_group_footnote',\n",
    "    'readm_group_measure_count',\n",
    "    'count_of_facility_readm_measures',\n",
    "    'count_of_readm_measures_no_different',\n",
    "    'count_of_readm_measures_worse',\n",
    "    'readm_group_footnote',\n",
    "    'pt_exp_group_measure_count',\n",
    "    'count_of_facility_pt_exp_measures',\n",
    "    'pt_exp_group_footnote',\n",
    "    'te_group_measure_count',\n",
    "    'count_of_facility_te_measures',\n",
    "    'te_group_footnote',\n",
    "    'emergency_services',\n",
    "    'count_of_mort_measures_better',\n",
    "    'count_of_safety_measures_better',\n",
    "    'count_of_readm_measures_better'\n",
    "    ]\n",
    "\n",
    "df.drop(columns=columns_to_drop, inplace=True, errors='ignore')\n",
    "print(\"Remaining columns after dropping:\", df.columns.tolist())\n"
   ]
  },
  {
   "cell_type": "markdown",
   "id": "7d8b7ea2",
   "metadata": {},
   "source": [
    "#### Mapping Coded Values to Footnote Crosswalk\n",
    "\n",
    "---\n",
    "\n",
    "##### I will use the CMS data dictionary footnote crosswalk to map coded values in the hospital_overall_rating_footnote column to their corresponding footnotes. This will help in understanding the null values in the hospital_overall_rating column.\n"
   ]
  },
  {
   "cell_type": "code",
   "execution_count": 6,
   "id": "85854392",
   "metadata": {},
   "outputs": [],
   "source": [
    "# FOOTNOTE CROSSWALK\n",
    "footnote_mapping: dict[int, str] = {\n",
    "    1: \"The number of cases/patients is too few to report.\",\n",
    "    2: \"Data submitted were based on a sample of cases/patients.\",\n",
    "    3: \"Results are based on a shorter time period than required.\",\n",
    "    4: \"Data suppressed by CMS for one or more quarters.\",\n",
    "    5: \"Results are not available for this reporting period.\",\n",
    "    6: \"Fewer than 100 patients completed the HCAHPS survey.\",\n",
    "    7: \"No cases met the criteria for this measure.\",\n",
    "    8: \"Lower limit of CI cannot be calculated if observed infections = 0.\",\n",
    "    9: \"No data available from the state/territory for this reporting period.\",\n",
    "    10: \"Very few patients completed HCAHPS; fewer than 50 surveys.\",\n",
    "    11: \"Discrepancies in the data collection process.\",\n",
    "    12: \"This measure does not apply to this hospital for this reporting period.\",\n",
    "    13: \"Results cannot be calculated for this reporting period.\",\n",
    "    14: \"Results combined with nearby states to protect confidentiality.\",\n",
    "    15: \"Too few patients to report a star rating.\",\n",
    "    16: \"Too few measures or groups reported to calculate a star rating.\",\n",
    "    17: \"Star rating includes only inpatient services.\",\n",
    "    18: \"Result not based on performance; no data submitted, no exemption.\",\n",
    "    19: \"Data shown only for hospitals in IQR/OQR programs.\",\n",
    "    20: \"State/national averages exclude VHA hospital data.\",\n",
    "    21: \"VHA survey results excluded from official HCAHPS and averages.\",\n",
    "    22: \"No overall star rating for DoD hospitals.\",\n",
    "    23: \"Discrepancies in hospital/facility claims data.\",\n",
    "    24: \"VA hospital results combined with VA administrative parent.\",\n",
    "    25: \"State/national averages include VHA data.\",\n",
    "    26: \"State/national averages include DoD data.\",\n",
    "    27: \"DoD survey results excluded from official HCAHPS and averages.\",\n",
    "    28: \"CMS-approved Exception may impact results.\",\n",
    "    29: \"Partial performance period due to CMS-approved Exception.\"\n",
    "}"
   ]
  },
  {
   "cell_type": "markdown",
   "id": "7997a78f",
   "metadata": {},
   "source": [
    " ##### Creating new column with footnote label which contains description of each footnote value.\n",
    " ---"
   ]
  },
  {
   "cell_type": "code",
   "execution_count": 7,
   "id": "55414fb6",
   "metadata": {},
   "outputs": [
    {
     "name": "stdout",
     "output_type": "stream",
     "text": [
      "  hospital_overall_rating hospital_overall_rating_footnote  \\\n",
      "0                       3                              NaN   \n",
      "1                       2                              NaN   \n",
      "2                       1                              NaN   \n",
      "3                       1                              NaN   \n",
      "4           Not Available                               16   \n",
      "\n",
      "                                      footnote_label  \n",
      "0                                                NaN  \n",
      "1                                                NaN  \n",
      "2                                                NaN  \n",
      "3                                                NaN  \n",
      "4  Too few measures or groups reported to calcula...  \n"
     ]
    }
   ],
   "source": [
    "#Footnote label column\n",
    "df['footnote_label'] = pd.to_numeric(df['hospital_overall_rating_footnote'], errors='coerce').map(footnote_mapping)\n",
    "\n",
    "#print hospital_overall_rating_footnote and footnote_label columns\n",
    "print(df[['hospital_overall_rating','hospital_overall_rating_footnote', 'footnote_label']].head(5))"
   ]
  },
  {
   "cell_type": "code",
   "execution_count": 8,
   "id": "4c83e0d7",
   "metadata": {},
   "outputs": [
    {
     "name": "stdout",
     "output_type": "stream",
     "text": [
      "Total null values for each column:\n",
      "facility_id                            0\n",
      "facility_name                          0\n",
      "city_town                              0\n",
      "state                                  0\n",
      "zip_code                               0\n",
      "hospital_type                          0\n",
      "hospital_ownership                     0\n",
      "hospital_overall_rating                0\n",
      "hospital_overall_rating_footnote    2766\n",
      "footnote_label                      2767\n",
      "dtype: int64\n",
      "Sum of 'Not Available' in hospital_overall_rating: 2572\n",
      "Unique values in hospital_overall_rating: ['3' '2' '1' 'Not Available' '4' '5']\n",
      "Unique values in hospital_overall_rating_footnote: [nan '16' '19' '22' '5' '17' '23' '16, 23']\n",
      "Unique values in footnote_label: [nan 'Too few measures or groups reported to calculate a star rating.'\n",
      " 'Data shown only for hospitals in IQR/OQR programs.'\n",
      " 'No overall star rating for DoD hospitals.'\n",
      " 'Results are not available for this reporting period.'\n",
      " 'Star rating includes only inpatient services.'\n",
      " 'Discrepancies in hospital/facility claims data.']\n"
     ]
    }
   ],
   "source": [
    "# Reviewing the data\n",
    "print(\"Total null values for each column:\")\n",
    "print(df.isnull().sum())\n",
    "\n",
    "# print sum of values \"Not Available\" in hospital_overall_rating column\n",
    "print(\"Sum of 'Not Available' in hospital_overall_rating:\", (df['hospital_overall_rating'] == 'Not Available').sum())\n",
    "\n",
    "#print unique values for hospital_overall_rating, hospital_overall_rating_footnote, and footnote_label columns\n",
    "print(\"Unique values in hospital_overall_rating:\", df['hospital_overall_rating'].unique())\n",
    "print(\"Unique values in hospital_overall_rating_footnote:\", df['hospital_overall_rating_footnote'].unique())\n",
    "print(\"Unique values in footnote_label:\", df['footnote_label'].unique())"
   ]
  },
  {
   "cell_type": "code",
   "execution_count": 9,
   "id": "97f45a4e",
   "metadata": {},
   "outputs": [
    {
     "name": "stdout",
     "output_type": "stream",
     "text": [
      "Updated hospital_overall_rating_footnote with parsed values:\n",
      "[None 16 19 22 5 17 23 (16, 23)]\n"
     ]
    }
   ],
   "source": [
    "# create function to handle multiple values in hospital_overall_rating_footnote\n",
    "def parse_footnote(footnote):\n",
    "    if pd.isnull(footnote):\n",
    "        return None\n",
    "    footnote = str(footnote).strip('()')\n",
    "    return tuple(sorted(map(int, footnote.split(',')))) if ',' in footnote else int(footnote)\n",
    "# Apply the function to the hospital_overall_rating_footnote column\n",
    "df['hospital_overall_rating_footnote'] = df['hospital_overall_rating_footnote'].apply(parse_footnote)\n",
    "# Display the updated DataFrame\n",
    "print(\"Updated hospital_overall_rating_footnote with parsed values:\")\n",
    "# print all unique values in the hospital_overall_rating_footnote column\n",
    "print(df['hospital_overall_rating_footnote'].unique())\n",
    "df['hospital_overall_rating_footnote'] = df['hospital_overall_rating_footnote'].apply(lambda x: x if isinstance(x, tuple) else (x,))"
   ]
  },
  {
   "cell_type": "markdown",
   "id": "c22ac744",
   "metadata": {},
   "source": [
    "### Handling Missing Values\n",
    "---\n",
    "* The unique values in the `hospital_overall_rating` indicate there are missing footnote values of 5, 16, 19, 22, (16, 23).  I will handle these null values as follows:\n",
    " 1. If the `hospital_overall_rating` value is null, I will check the corresponding `hospital_overall_rating_footnote` for a footnote value.\n",
    " 2. If the footnote value is 5, I will drop these rows as they are not useful for analysis.\n",
    " 3. If the footnote value is 16, I will drop these rows as they are not useful for analysis.\n",
    " 4. If footnote values is 19, I will drop these rows as they are not useful for analysis.\n",
    " 5. If the footnote value is 22, I will drop these rows as they are not useful for analysis.\n",
    " 6. If the footnote value is 23, I will drop these rows as they may not accurately reflect the hospital's performance.\n",
    "7. If the footnote value is 17, I will keep these rows for now as they still contain hospital_overall_rating values and still provide useful information.\n",
    "---\n",
    "#### Summary of Footnote Values and Corresponding Actions:\n",
    "\n",
    "| Footnote Value | Description                                                                 | Action                                      |\n",
    "|----------------|-----------------------------------------------------------------------------|---------------------------------------------|\n",
    "| 5              | Results are not available for this reporting period.                        | Drop rows                                   |\n",
    "| 16             | Too few measures or groups reported to calculate a star rating.             | Drop rows                                   |\n",
    "| 17             | Star rating is based on inpatient data only.                                | Keep rows                                   |\n",
    "| 19             | Data shown only for hospitals in IQR/OQR programs.                          | Drop rows                                   |\n",
    "| 22             | No overall star rating for Department of Defense hospitals.                 | Drop rows                                   |\n",
    "| 23             | The hospital or facility has reported discrepancies in their claims data. | Drop rows                                   |"
   ]
  },
  {
   "cell_type": "code",
   "execution_count": 10,
   "id": "f014f2b5",
   "metadata": {},
   "outputs": [
    {
     "name": "stdout",
     "output_type": "stream",
     "text": [
      "Unique values in hospital_overall_rating_footnote after filtering: [(None,) (17,)]\n"
     ]
    }
   ],
   "source": [
    "# Drop rows where hospital_overall_rating_footnote contains ONLY 5, 16, 19, 22, 23, or (16, 23)\n",
    "drop_footnotes = {(5,), (16,), (19,), (22,), (23,), (16, 23)}\n",
    "def should_drop(footnote):\n",
    "\t# If not a tuple, make it a tuple for comparison\n",
    "\tif isinstance(footnote, tuple):\n",
    "\t\treturn tuple(sorted(footnote)) in drop_footnotes\n",
    "\ttry:\n",
    "\t\treturn (int(footnote),) in drop_footnotes\n",
    "\texcept Exception:\n",
    "\t\treturn False\n",
    "\n",
    "df = df[~df['hospital_overall_rating_footnote'].apply(should_drop)]\n",
    "print(\"Unique values in hospital_overall_rating_footnote after filtering:\", df['hospital_overall_rating_footnote'].unique())"
   ]
  },
  {
   "cell_type": "code",
   "execution_count": 11,
   "id": "96c1139f",
   "metadata": {},
   "outputs": [
    {
     "name": "stdout",
     "output_type": "stream",
     "text": [
      "Missing values footnote_label:\n",
      "2766\n",
      "Count of (None,) in hospital_overall_rating_footnote: 2766\n",
      "Missing values in hospital_overall_rating: 0\n"
     ]
    }
   ],
   "source": [
    "# verifying the footnote_label column and hospital_overall_rating_footnote column have equal number of missing values\n",
    "#print missing values for footnote_label column\n",
    "print(\"Missing values footnote_label:\")\n",
    "print(df['footnote_label'].isnull().sum())\n",
    "#print \"(None,)\" values in hospital_overall_rating_footnote column\n",
    "print(\"Count of (None,) in hospital_overall_rating_footnote:\", (df['hospital_overall_rating_footnote'] == (None,)).sum())\n",
    "\n",
    "#verifying remaining hospital_overall_rating do not contain missing values\n",
    "print(\"Missing values in hospital_overall_rating:\", df['hospital_overall_rating'].isnull().sum())\n"
   ]
  },
  {
   "cell_type": "markdown",
   "id": "c0e26b78",
   "metadata": {},
   "source": [
    "#### Since the footnote_label column and hospital_overall_rating_footnote column have equal number of missing values, they can be dropped.  The remaining hospital_overall_rating values do not contain missing values, so the other columns are no longer needed for analysis.\n",
    "---"
   ]
  },
  {
   "cell_type": "code",
   "execution_count": 12,
   "id": "06a552a7",
   "metadata": {},
   "outputs": [
    {
     "name": "stdout",
     "output_type": "stream",
     "text": [
      "Remaining columns after dropping: ['facility_id', 'facility_name', 'city_town', 'state', 'zip_code', 'hospital_type', 'hospital_ownership', 'hospital_overall_rating']\n"
     ]
    }
   ],
   "source": [
    "#dropping footnote_label and hospital_overall_rating_footnote columns\n",
    "df.drop(columns=['footnote_label', 'hospital_overall_rating_footnote'], inplace=True, errors='ignore')\n",
    "print(\"Remaining columns after dropping:\", df.columns.tolist())"
   ]
  },
  {
   "cell_type": "code",
   "execution_count": 13,
   "id": "5198ac7b",
   "metadata": {},
   "outputs": [
    {
     "name": "stdout",
     "output_type": "stream",
     "text": [
      "Data indexed by 'facility_id':\n",
      "                                facility_name   city_town state  zip_code  \\\n",
      "facility_id                                                                \n",
      "10001        SOUTHEAST HEALTH MEDICAL CENTER      DOTHAN    AL     36301   \n",
      "10005               MARSHALL MEDICAL CENTERS        BOAZ    AL     35957   \n",
      "10006           NORTH ALABAMA MEDICAL CENTER    FLORENCE    AL     35630   \n",
      "10007               MIZELL MEMORIAL HOSPITAL         OPP    AL     36467   \n",
      "10011                     ST. VINCENT'S EAST  BIRMINGHAM    AL     35235   \n",
      "\n",
      "                    hospital_type  \\\n",
      "facility_id                         \n",
      "10001        Acute Care Hospitals   \n",
      "10005        Acute Care Hospitals   \n",
      "10006        Acute Care Hospitals   \n",
      "10007        Acute Care Hospitals   \n",
      "10011        Acute Care Hospitals   \n",
      "\n",
      "                                      hospital_ownership  \\\n",
      "facility_id                                                \n",
      "10001        Government - Hospital District or Authority   \n",
      "10005        Government - Hospital District or Authority   \n",
      "10006                                        Proprietary   \n",
      "10007                     Voluntary non-profit - Private   \n",
      "10011                     Voluntary non-profit - Private   \n",
      "\n",
      "            hospital_overall_rating  \n",
      "facility_id                          \n",
      "10001                             3  \n",
      "10005                             2  \n",
      "10006                             1  \n",
      "10007                             1  \n",
      "10011                             3  \n"
     ]
    }
   ],
   "source": [
    "# Indexing the DataFrame by 'facility_id'\n",
    "# This allows for faster lookups and operations based on facility_id\n",
    "df_indexed = df.set_index('facility_id')\n",
    "print(\"Data indexed by 'facility_id':\\n\", df_indexed.head())"
   ]
  },
  {
   "cell_type": "markdown",
   "id": "4ceeaf1a",
   "metadata": {},
   "source": [
    "#### Converting to Sqlite Database & Creating Table\n",
    "---"
   ]
  },
  {
   "cell_type": "code",
   "execution_count": 14,
   "id": "61e9791c",
   "metadata": {},
   "outputs": [
    {
     "name": "stdout",
     "output_type": "stream",
     "text": [
      "Data successfully written to SQLite database 'ehr_data.sqlite' in table 'hospital_general_info'.\n"
     ]
    }
   ],
   "source": [
    "# Connect to existing SQLite database\n",
    "import sqlite3\n",
    "conn = sqlite3.connect(\"../data/ehr_data.sqlite\")\n",
    "\n",
    "# Write the DataFrame `df` to a new table in the SQLite database and name it \"hospital_general_info\"\n",
    "\n",
    "df.to_sql(\n",
    "    name=\"hospital_general_info\",      # table name\n",
    "    con=conn,               # connection to the SQLite database\n",
    "    if_exists=\"replace\",    # drop the table if it exists and create a new one\n",
    "    index=False             # do not write DataFrame index as a column\n",
    ")\n",
    "\n",
    "# Close the connection\n",
    "conn.close()\n",
    "\n",
    "print(\"Data successfully written to SQLite database 'ehr_data.sqlite' in table 'hospital_general_info'.\")"
   ]
  },
  {
   "cell_type": "markdown",
   "id": "4b57b75d",
   "metadata": {},
   "source": [
    "#### Saving the cleaned dataset to CSV\n",
    "---"
   ]
  },
  {
   "cell_type": "code",
   "execution_count": 15,
   "id": "ad455b1c",
   "metadata": {},
   "outputs": [
    {
     "name": "stdout",
     "output_type": "stream",
     "text": [
      "Cleaned data saved to ../data/clean_data\\cleaned_general_info.csv\n"
     ]
    }
   ],
   "source": [
    "import os\n",
    "\n",
    "#save the cleaned DataFrame to a new CSV file\n",
    "clean_data_dir = '../data/clean_data'\n",
    "os.makedirs(clean_data_dir, exist_ok=True)\n",
    "cleaned_csv_path = os.path.join(clean_data_dir, 'cleaned_general_info.csv')\n",
    "df.to_csv(cleaned_csv_path, index=False, encoding='utf-8-sig')  # BOM for pandas compatibility\n",
    "print(f\"Cleaned data saved to {cleaned_csv_path}\")"
   ]
  }
 ],
 "metadata": {
  "kernelspec": {
   "display_name": ".venv",
   "language": "python",
   "name": "python3"
  },
  "language_info": {
   "codemirror_mode": {
    "name": "ipython",
    "version": 3
   },
   "file_extension": ".py",
   "mimetype": "text/x-python",
   "name": "python",
   "nbconvert_exporter": "python",
   "pygments_lexer": "ipython3",
   "version": "3.13.2"
  }
 },
 "nbformat": 4,
 "nbformat_minor": 5
}
